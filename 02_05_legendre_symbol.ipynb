{
 "cells": [
  {
   "cell_type": "code",
   "execution_count": 4,
   "metadata": {},
   "outputs": [
    {
     "data": {
      "text/plain": [
       "' First, note that \\'=\\' means \\'is congruent\\'.\\nAccording to Euler\\'s criterion, there are exactly p-1/2 numbers mod p such that they are quadratic residues mod p.\\n\\nThis is because if x^2 = a mod p, then there at most two distinct x\\'s mod p, that satisfy this congruence. This is\\nbecause Z/pZ is a field and Lagrange\\'s criterion for fields apply: \"a polynomial over a field with degree d \\ncan have at most d roots\". Thus, it follows that there are AT LEAST p-1/2 a\\'s which are quadratic residues mod p ---(*).\\n\\nHowever, (p-x)^2 = x^2 mod p, and p-x != x mod p, so in this particular field, there are exactly 2 roots for the \\nquadratic polynomial. (?) - this claim is questionable\\n\\nNext, recall Fermat\\'s little theorem: a^(p-1) = 1 mod p [whenever gcd(a, p)=1]. \\nThis gives us that [(a^(p-1/2) - 1) * (a^(p-1/2) + 1] = 0 mod p -----(**).\\nSo if a = x^2 mod p, we get that a(p-1/2) = x^(p-1) = 1 mod p, [since Z/pZ]; thus, every quadratic residue makes the \\nfirst factor in (**) 0. By Lagrange\\'s theorem again, we have that there are AT MOST (p-1/2) roots to (a^(p-1/2) - 1) = 0.\\nBut in (*) we found that there at AT LEAST p-1/2 such a\\'s. Thus, there are exactly p-1/2 such a\\'s!\\n\\nThe other a\\'s are then the non-quadratic residues mod p, and they must make the second factor of (**) zero (whether or not \\nthey also make the first factor 0). Thus, these non residues mod p are a\\'s, such that (a^(p-1/2) + 1) = 0 mod p, or \\na^(p-1/2) mod p.\\n\\n'"
      ]
     },
     "execution_count": 4,
     "metadata": {},
     "output_type": "execute_result"
    }
   ],
   "source": [
    "## Theory behind Legendre symbol:\n",
    "''' First, note that '=' means 'is congruent'.\n",
    "According to Euler's criterion, there are exactly p-1/2 numbers mod p such that they are quadratic residues mod p.\n",
    "\n",
    "This is because if x^2 = a mod p, then there at most two distinct x's mod p, that satisfy this congruence. This is\n",
    "because Z/pZ is a field and Lagrange's criterion for fields apply: \"a polynomial over a field with degree d \n",
    "can have at most d roots\". Thus, it follows that there are AT LEAST p-1/2 a's which are quadratic residues mod p ---(*).\n",
    "\n",
    "However, (p-x)^2 = x^2 mod p, and p-x != x mod p, so in this particular field, there are exactly 2 roots for the \n",
    "quadratic polynomial. (?) - this claim is questionable\n",
    "\n",
    "Next, recall Fermat's little theorem: a^(p-1) = 1 mod p [whenever gcd(a, p)=1]. \n",
    "This gives us that [(a^(p-1/2) - 1) * (a^(p-1/2) + 1] = 0 mod p -----(**).\n",
    "So if a = x^2 mod p, we get that a(p-1/2) = x^(p-1) = 1 mod p, [since Z/pZ]; thus, every quadratic residue makes the \n",
    "first factor in (**) 0. By Lagrange's theorem again, we have that there are AT MOST (p-1/2) roots to (a^(p-1/2) - 1) = 0.\n",
    "But in (*) we found that there at AT LEAST p-1/2 such a's. Thus, there are exactly p-1/2 such a's!\n",
    "\n",
    "The other a's are then the non-quadratic residues mod p, and they must make the second factor of (**) zero (whether or not \n",
    "they also make the first factor 0). Thus, these non residues mod p are a's, such that (a^(p-1/2) + 1) = 0 mod p, or \n",
    "a^(p-1/2) mod p.\n",
    "\n",
    "'''"
   ]
  },
  {
   "cell_type": "code",
   "execution_count": 1,
   "metadata": {},
   "outputs": [],
   "source": [
    "import math\n",
    "import numpy as np\n",
    "import sympy\n",
    "import time "
   ]
  },
  {
   "cell_type": "code",
   "execution_count": 2,
   "metadata": {},
   "outputs": [],
   "source": [
    "def legendre_sym(num, prime):\n",
    "    result = num**((prime-1)/2)\n",
    "    return int(result%prime)"
   ]
  },
  {
   "cell_type": "code",
   "execution_count": 3,
   "metadata": {},
   "outputs": [
    {
     "name": "stdout",
     "output_type": "stream",
     "text": [
      "res1:  1\n",
      "res2:  1\n",
      "res3:  1\n"
     ]
    }
   ],
   "source": [
    "## test \n",
    "prime = 11\n",
    "a = 3\n",
    "b = 4\n",
    "c = 5\n",
    "\n",
    "res1 = legendre_sym(a, prime)\n",
    "res2 = legendre_sym(b, prime)\n",
    "res3 = legendre_sym(c, prime)\n",
    "\n",
    "# works\n",
    "print(\"res1: \", res1)\n",
    "print(\"res2: \", res2)\n",
    "print(\"res3: \", res3)"
   ]
  }
 ],
 "metadata": {
  "kernelspec": {
   "display_name": "Python 3",
   "language": "python",
   "name": "python3"
  },
  "language_info": {
   "codemirror_mode": {
    "name": "ipython",
    "version": 3
   },
   "file_extension": ".py",
   "mimetype": "text/x-python",
   "name": "python",
   "nbconvert_exporter": "python",
   "pygments_lexer": "ipython3",
   "version": "3.7.6"
  }
 },
 "nbformat": 4,
 "nbformat_minor": 4
}
